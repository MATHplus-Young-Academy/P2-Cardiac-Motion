{
 "cells": [
  {
   "cell_type": "code",
   "execution_count": 1,
   "id": "a6c7e456-06a2-4e5c-bedb-bafc98e888fc",
   "metadata": {},
   "outputs": [
    {
     "ename": "RuntimeError",
     "evalue": "Exception thrown in SimpleITK ImageFileReader_Execute: /tmp/SimpleITK/Code/IO/src/sitkImageReaderBase.cxx:97:\nsitk::ERROR: The file \"/home/jovyan/P2-Cardiac-Motion/NN_segmentation/datasets/patient021/image.nii.gz\" does not exist.",
     "output_type": "error",
     "traceback": [
      "\u001b[0;31m---------------------------------------------------------------------------\u001b[0m",
      "\u001b[0;31mRuntimeError\u001b[0m                              Traceback (most recent call last)",
      "Input \u001b[0;32mIn [1]\u001b[0m, in \u001b[0;36m<module>\u001b[0;34m\u001b[0m\n\u001b[1;32m     36\u001b[0m LBL_PATH \u001b[38;5;241m=\u001b[39m \u001b[38;5;124mr\u001b[39m\u001b[38;5;124m\"\u001b[39m\u001b[38;5;124m/home/jovyan/P2-Cardiac-Motion/NN_segmentation/datasets/patient021/label.nii.gz\u001b[39m\u001b[38;5;124m\"\u001b[39m\n\u001b[1;32m     39\u001b[0m \u001b[38;5;66;03m#%%\u001b[39;00m\n\u001b[0;32m---> 40\u001b[0m tst_dataset \u001b[38;5;241m=\u001b[39m \u001b[43mcardiacdata\u001b[49m\u001b[43m(\u001b[49m\u001b[43mIMG_PATH\u001b[49m\u001b[43m,\u001b[49m\u001b[43m \u001b[49m\u001b[43mLBL_PATH\u001b[49m\u001b[43m)\u001b[49m\n\u001b[1;32m     41\u001b[0m tst_loader \u001b[38;5;241m=\u001b[39m DataLoader(tst_dataset, batch_size\u001b[38;5;241m=\u001b[39m\u001b[38;5;241m1\u001b[39m, shuffle\u001b[38;5;241m=\u001b[39m\u001b[38;5;28;01mFalse\u001b[39;00m, num_workers\u001b[38;5;241m=\u001b[39m\u001b[38;5;241m0\u001b[39m)\n\u001b[1;32m     42\u001b[0m \u001b[38;5;66;03m# network\u001b[39;00m\n",
      "File \u001b[0;32m~/P2-Cardiac-Motion/NN_segmentation/tst_dataset.py:103\u001b[0m, in \u001b[0;36mcardiacdata.__init__\u001b[0;34m(self, img_dir, label_dir)\u001b[0m\n\u001b[1;32m     96\u001b[0m     \u001b[38;5;28;01mdef\u001b[39;00m \u001b[38;5;21m__init__\u001b[39m(\u001b[38;5;28mself\u001b[39m, img_dir \u001b[38;5;241m=\u001b[39m \u001b[38;5;124m\"\u001b[39m\u001b[38;5;124m./Datasets/patient005/image.nii.gz\u001b[39m\u001b[38;5;124m\"\u001b[39m, label_dir \u001b[38;5;241m=\u001b[39m \u001b[38;5;124m'\u001b[39m\u001b[38;5;124m./Datasets/patient005/label.nii.gz\u001b[39m\u001b[38;5;124m'\u001b[39m):        \n\u001b[1;32m     97\u001b[0m \u001b[38;5;66;03m#         ptnum=str(5).zfill(3) \u001b[39;00m\n\u001b[1;32m     98\u001b[0m \u001b[38;5;66;03m#         img_dir = IMG_DIR + '/patient'+ptnum+'/patient'+ptnum+'_4d.nii.gz'\u001b[39;00m\n\u001b[1;32m     99\u001b[0m \u001b[38;5;66;03m#         dummy_img = sitk.GetArrayFromImage(sitk.ReadImage(img_dir))\u001b[39;00m\n\u001b[1;32m    100\u001b[0m \u001b[38;5;66;03m#         print(dummy_img.shape)\u001b[39;00m\n\u001b[1;32m    101\u001b[0m \u001b[38;5;66;03m#         dummy_img = crop_img(dummy_img)\u001b[39;00m\n\u001b[0;32m--> 103\u001b[0m         dummy_img \u001b[38;5;241m=\u001b[39m sitk\u001b[38;5;241m.\u001b[39mGetArrayFromImage(\u001b[43msitk\u001b[49m\u001b[38;5;241;43m.\u001b[39;49m\u001b[43mReadImage\u001b[49m\u001b[43m(\u001b[49m\u001b[43mimg_dir\u001b[49m\u001b[43m)\u001b[49m)\n\u001b[1;32m    104\u001b[0m         dummy_img \u001b[38;5;241m=\u001b[39m np\u001b[38;5;241m.\u001b[39msqueeze(dummy_img)\n\u001b[1;32m    105\u001b[0m         \u001b[38;5;66;03m# print(dummy_img.shape)\u001b[39;00m\n",
      "File \u001b[0;32m/opt/conda/lib/python3.9/site-packages/SimpleITK/extra.py:346\u001b[0m, in \u001b[0;36mReadImage\u001b[0;34m(fileName, outputPixelType, imageIO)\u001b[0m\n\u001b[1;32m    344\u001b[0m reader\u001b[38;5;241m.\u001b[39mSetImageIO(imageIO)\n\u001b[1;32m    345\u001b[0m reader\u001b[38;5;241m.\u001b[39mSetOutputPixelType(outputPixelType)\n\u001b[0;32m--> 346\u001b[0m \u001b[38;5;28;01mreturn\u001b[39;00m \u001b[43mreader\u001b[49m\u001b[38;5;241;43m.\u001b[39;49m\u001b[43mExecute\u001b[49m\u001b[43m(\u001b[49m\u001b[43m)\u001b[49m\n",
      "File \u001b[0;32m/opt/conda/lib/python3.9/site-packages/SimpleITK/SimpleITK.py:5779\u001b[0m, in \u001b[0;36mImageFileReader.Execute\u001b[0;34m(self)\u001b[0m\n\u001b[1;32m   5777\u001b[0m \u001b[38;5;28;01mdef\u001b[39;00m \u001b[38;5;21mExecute\u001b[39m(\u001b[38;5;28mself\u001b[39m):\n\u001b[1;32m   5778\u001b[0m     \u001b[38;5;124mr\u001b[39m\u001b[38;5;124;03m\"\"\"Execute(ImageFileReader self) -> Image\"\"\"\u001b[39;00m\n\u001b[0;32m-> 5779\u001b[0m     \u001b[38;5;28;01mreturn\u001b[39;00m \u001b[43m_SimpleITK\u001b[49m\u001b[38;5;241;43m.\u001b[39;49m\u001b[43mImageFileReader_Execute\u001b[49m\u001b[43m(\u001b[49m\u001b[38;5;28;43mself\u001b[39;49m\u001b[43m)\u001b[49m\n",
      "\u001b[0;31mRuntimeError\u001b[0m: Exception thrown in SimpleITK ImageFileReader_Execute: /tmp/SimpleITK/Code/IO/src/sitkImageReaderBase.cxx:97:\nsitk::ERROR: The file \"/home/jovyan/P2-Cardiac-Motion/NN_segmentation/datasets/patient021/image.nii.gz\" does not exist."
     ]
    }
   ],
   "source": [
    "#!/usr/bin/env python3\n",
    "# -*- coding: utf-8 -*-\n",
    "\"\"\"\n",
    "Created on Wed Nov  4 14:26:28 2020\n",
    "\n",
    "@author: apramanik\n",
    "\"\"\"\n",
    "\n",
    "from torch.utils.data import DataLoader\n",
    "import numpy as np\n",
    "import os, torch\n",
    "import matplotlib.pyplot as plt\n",
    "\n",
    "from tst_dataset import cardiacdata\n",
    "from Auto3D_D4 import Auto3D as NN_MODEL\n",
    "#from UNET3D_D4 import UNet3D as NN_MODEL\n",
    "\n",
    "%matplotlib inline\n",
    "\n",
    "def dice_comp(pred, gt):\n",
    "    return (2. * (np.sum(pred.astype(float) * gt.astype(float))) + 1.) / (np.sum(pred.astype(float)) \\\n",
    "        + np.sum(gt.astype(float)) + 1.)\n",
    "\n",
    "\n",
    "\n",
    "#%%\n",
    "nImg=1\n",
    "dispind=1\n",
    "vol_slice=4\n",
    "chunk_size=nImg\n",
    "\n",
    "\n",
    "MDL_PATH=r\"/home/jovyan/project_segmentation_models/19\"\n",
    "#IMG_PATH = r\"/home/jovyan/P2-Cardiac-Motion/NN_segmentation/datasets/patient005/patient005_4d.nii.gz\"\n",
    "IMG_PATH = r\"/home/jovyan/P2-Cardiac-Motion/NN_segmentation/datasets/patient021/image.nii.gz\"\n",
    "LBL_PATH = r\"/home/jovyan/P2-Cardiac-Motion/NN_segmentation/datasets/patient021/label.nii.gz\"\n",
    "\n",
    "\n",
    "#%%\n",
    "tst_dataset = cardiacdata(IMG_PATH, LBL_PATH)\n",
    "tst_loader = DataLoader(tst_dataset, batch_size=1, shuffle=False, num_workers=0)\n",
    "# network\n",
    "net = NN_MODEL(num_classes=4, in_channels=1, depth=4, start_filts=32, res=False).cuda()\n",
    "#net = NN_MODEL(num_classes=4, depth=4, start_filts=32, in_channels=1, res=True).cuda()\n",
    "\n",
    "net.load_state_dict(torch.load(os.path.join(MDL_PATH, \"model_best.pth.tar\"))['state_dict'])\n",
    "img_shape = tst_dataset.img.shape\n",
    "normOrg=np.zeros((1,img_shape[1],img_shape[2],img_shape[3]),dtype=np.float32)\n",
    "normGT=np.zeros((1,img_shape[1],img_shape[2],img_shape[3]),dtype=np.int16)\n",
    "normSeg=np.zeros((1,img_shape[1],img_shape[2],img_shape[3]),dtype=np.int16)\n",
    "dice = np.zeros((nImg, 3))\n",
    "net.eval()\n",
    "for step, (img, seg_gt) in enumerate(tst_loader, 0):\n",
    "    img, seg_gt = img.cuda(), seg_gt.cuda()\n",
    "    pred = net(img)\n",
    "    _, pred = torch.max(pred, 1)\n",
    "    #pred, _ = torch.max(pred, 1)\n",
    "    \n",
    "    pred = pred.squeeze().detach().cpu().numpy().astype(np.int8)\n",
    "    img = img.squeeze().detach().cpu().numpy()\n",
    "    gt = seg_gt.squeeze().detach().cpu().numpy().astype(np.int8)\n",
    "    for i in range(3):\n",
    "        dice[step, i] = dice_comp(pred==i+1, gt==i+1)\n",
    "    normOrg[step]=img\n",
    "    normGT[step]=gt\n",
    "    normSeg[step]=pred\n",
    "\n",
    "\n",
    "    \n",
    "print(\"DICE Right Ventricle: {0:.5f}\".format(np.mean(dice[:,0])))\n",
    "print(\"DICE Myocardium: {0:.5f}\".format(np.mean(dice[:,1])))\n",
    "print(\"DICE Left Ventricle: {0:.5f}\".format(np.mean(dice[:,2])))\n",
    "\n",
    "\n",
    "\n",
    "#%%%\n",
    "normOrg=np.reshape(normOrg,[int(normOrg.shape[1]/8),8,144,144])\n",
    "normGT=np.reshape(normGT,[int(normGT.shape[1]/8),8,144,144])\n",
    "normSeg=np.reshape(normSeg,[int(normSeg.shape[1]/8),8,144,144])\n",
    "normError=np.abs(normGT.astype(np.float32)-normSeg.astype(np.float32))\n",
    "normOrg=normOrg-normOrg.min()\n",
    "\n",
    "#%% Display the output images\n",
    "plot= lambda x: plt.imshow(x,cmap=plt.cm.gray,interpolation='bilinear')\n",
    "plot1= lambda x: plt.imshow(x,interpolation='bilinear')\n",
    "plt.clf()\n",
    "plt.subplot(141)\n",
    "plot(np.abs(normOrg[dispind,vol_slice,:,:]))\n",
    "plt.axis('off')\n",
    "plt.title('Original')\n",
    "plt.subplot(142)\n",
    "plot1(np.abs(normGT[dispind,vol_slice,:,:]))\n",
    "plt.axis('off')\n",
    "plt.title('True labels')\n",
    "plt.subplot(143)\n",
    "plot1(np.abs(normSeg[dispind,vol_slice,:,:]))\n",
    "plt.axis('off')\n",
    "plt.title('Segmentation')\n",
    "plt.subplot(144)\n",
    "plot(np.abs(normError[dispind,vol_slice,:,:]))\n",
    "plt.title('Error')\n",
    "plt.axis('off')\n",
    "plt.subplots_adjust(left=0, right=1, top=1, bottom=0,wspace=.01)\n",
    "plt.show()\n",
    "\n",
    "# purple=0, blue=1, green=2, yellow=3"
   ]
  },
  {
   "cell_type": "code",
   "execution_count": 2,
   "id": "e04200e7-fc52-4c06-ae43-43a7dcd4b455",
   "metadata": {},
   "outputs": [
    {
     "data": {
      "text/plain": [
       "(30, 8, 144, 144)"
      ]
     },
     "execution_count": 2,
     "metadata": {},
     "output_type": "execute_result"
    }
   ],
   "source": []
  },
  {
   "cell_type": "code",
   "execution_count": 4,
   "id": "dc5d3293-9773-4df7-abc6-ed537406f335",
   "metadata": {},
   "outputs": [
    {
     "data": {
      "text/plain": [
       "array([0, 1, 2, 3], dtype=int16)"
      ]
     },
     "execution_count": 4,
     "metadata": {},
     "output_type": "execute_result"
    }
   ],
   "source": []
  },
  {
   "cell_type": "code",
   "execution_count": null,
   "id": "dde99ea2-d9d4-4361-b81f-7fc07fb50b66",
   "metadata": {},
   "outputs": [],
   "source": []
  }
 ],
 "metadata": {
  "kernelspec": {
   "display_name": "Python 3 (ipykernel)",
   "language": "python",
   "name": "python3"
  },
  "language_info": {
   "codemirror_mode": {
    "name": "ipython",
    "version": 3
   },
   "file_extension": ".py",
   "mimetype": "text/x-python",
   "name": "python",
   "nbconvert_exporter": "python",
   "pygments_lexer": "ipython3",
   "version": "3.9.10"
  }
 },
 "nbformat": 4,
 "nbformat_minor": 5
}
