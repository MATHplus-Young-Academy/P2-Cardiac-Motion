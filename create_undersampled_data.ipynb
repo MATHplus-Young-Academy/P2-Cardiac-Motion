{
 "cells": [
  {
   "cell_type": "markdown",
   "id": "86ea4a11",
   "metadata": {},
   "source": [
    "# Create undersampled k-space\n",
    "This demonstration shows how to create different undersampled k-space data which can be used either directly for image reconstruction or used to simulate MR data acquisition of a new object.\n"
   ]
  },
  {
   "cell_type": "markdown",
   "id": "1df941f7",
   "metadata": {},
   "source": [
    "First version: 6th of March 2022 \n",
    "Author: Christoph Kolbitsch \n",
    "Copyright 2015 - 2021 Physikalisch-Technische Bundesanstalt. \n",
    "\n",
    "This is software developed for the Collaborative Computational Project in Synergistic Reconstruction for Biomedical Imaging \n",
    "(http://www.ccpsynerbi.ac.uk/).\n",
    "\n",
    "Licensed under the Apache License, Version 2.0 (the \"License\");\n",
    "you may not use this file except in compliance with the License.\n",
    "You may obtain a copy of the License at\n",
    "    http://www.apache.org/licenses/LICENSE-2.0\n",
    "Unless required by applicable law or agreed to in writing, software\n",
    "distributed under the License is distributed on an \"AS IS\" BASIS,\n",
    "WITHOUT WARRANTIES OR CONDITIONS OF ANY KIND, either express or implied.\n",
    "See the License for the specific language governing permissions and\n",
    "limitations under the License."
   ]
  },
  {
   "cell_type": "code",
   "execution_count": null,
   "id": "5f9ad622",
   "metadata": {},
   "outputs": [],
   "source": [
    "#%% make sure figures appears inline and animations works\n",
    "%matplotlib notebook"
   ]
  },
  {
   "cell_type": "code",
   "execution_count": null,
   "id": "add8c747",
   "metadata": {},
   "outputs": [],
   "source": [
    "__version__ = '0.1.1'\n",
    "\n",
    "import numpy as np\n",
    "\n",
    "# import engine module\n",
    "import sirf.Gadgetron as mr\n",
    "\n",
    "# import further modules\n",
    "import os\n",
    "from numpy.lib.stride_tricks import as_strided\n",
    "\n",
    "%matplotlib inline\n",
    "import matplotlib.pyplot as plt\n",
    "\n"
   ]
  },
  {
   "cell_type": "markdown",
   "id": "3dbf9057",
   "metadata": {},
   "source": [
    "# Utilities"
   ]
  },
  {
   "cell_type": "code",
   "execution_count": null,
   "id": "6b0505d0",
   "metadata": {},
   "outputs": [],
   "source": [
    "def plot_2d_t_image(vol, title, clims=None, cmap='viridis'):\n",
    "    idim = vol.shape\n",
    "    fig, ax = plt.subplots(1,3)\n",
    "    fig.suptitle(title)\n",
    "    if clims is None:\n",
    "        clims = [vol.min(), vol.max()]\n",
    "    ax[0].imshow(vol[idim[0]//2,:,:], cmap=cmap, clim=clims)\n",
    "    ax[1].imshow(vol[:, idim[1]//2,:], cmap=cmap, clim=clims)\n",
    "    ax[1].set_ylabel('Cardiac phases')\n",
    "    ax[2].imshow(vol[:,:,idim[2]//2], cmap=cmap, clim=clims)\n",
    "    ax[2].set_ylabel('Cardiac phases')\n",
    "    \n",
    "    for ind in range(3):\n",
    "        ax[ind].set_xticks([])\n",
    "        ax[ind].set_yticks([])\n",
    "\n",
    "    \n",
    "\n",
    "def crop_and_fill(templ_im, vol):\n",
    "    \"\"\"Crop volumetric image data and replace image content in template image object\"\"\"\n",
    "    # Get size of template image and crop\n",
    "    idim_orig = templ_im.as_array().shape\n",
    "    idim = (1,)*(3-len(idim_orig)) + idim_orig\n",
    "    offset = (np.array(vol.shape) - np.array(idim)) // 2\n",
    "    vol = vol[offset[0]:offset[0]+idim[0], offset[1]:offset[1]+idim[1], offset[2]:offset[2]+idim[2]]\n",
    "    \n",
    "    # Make a copy of the template to ensure we do not overwrite it\n",
    "    templ_im_out = templ_im.copy()\n",
    "    \n",
    "    # Fill image content \n",
    "    templ_im_out.fill(np.reshape(vol, idim_orig))\n",
    "    return(templ_im_out)\n",
    "\n",
    "\n",
    "'''\n",
    "Variable density Cartesian sampling taken from\n",
    "https://github.com/js3611/Deep-MRI-Reconstruction/blob/master/utils/compressed_sensing.py\n",
    "'''\n",
    "\n",
    "def normal_pdf(length, sensitivity):\n",
    "    return np.exp(-sensitivity * (np.arange(length) - length / 2)**2)\n",
    "\n",
    "\n",
    "def cartesian_mask(shape, acc, sample_n=10):\n",
    "    \"\"\"\n",
    "    Sampling density estimated from implementation of kt FOCUSS\n",
    "    shape: tuple - of form (..., nx, ny)\n",
    "    acc: float - doesn't have to be integer 4, 8, etc..\n",
    "    \"\"\"\n",
    "    N, Nx, Ny = int(np.prod(shape[:-2])), shape[-2], shape[-1]\n",
    "    pdf_x = normal_pdf(Nx, 0.5/(Nx/10.)**2)\n",
    "    lmda = Nx/(2.*acc)\n",
    "    n_lines = int(Nx / acc)\n",
    "\n",
    "    # add uniform distribution\n",
    "    pdf_x += lmda * 1./Nx\n",
    "\n",
    "    if sample_n:\n",
    "        pdf_x[Nx//2-sample_n//2:Nx//2+sample_n//2] = 0\n",
    "        pdf_x /= np.sum(pdf_x)\n",
    "        n_lines -= sample_n\n",
    "\n",
    "    mask = np.zeros((N, Nx))\n",
    "    for i in range(N):\n",
    "        idx = np.random.choice(Nx, n_lines, False, pdf_x)\n",
    "        mask[i, idx] = 1\n",
    "\n",
    "    if sample_n:\n",
    "        mask[:, Nx//2-sample_n//2:Nx//2+sample_n//2] = 1\n",
    "\n",
    "    size = mask.itemsize\n",
    "    mask = as_strided(mask, (N, Nx, Ny), (size * Nx, size, 0))\n",
    "\n",
    "    mask = mask.reshape(shape)\n",
    "\n",
    "    return mask\n"
   ]
  },
  {
   "cell_type": "markdown",
   "id": "859cb547",
   "metadata": {},
   "source": [
    "## (A) Fully sampled k-space data"
   ]
  },
  {
   "cell_type": "markdown",
   "id": "061d9bb1",
   "metadata": {},
   "source": [
    "Load in fully sampled k-space data and preprocess it."
   ]
  },
  {
   "cell_type": "code",
   "execution_count": null,
   "id": "8d49b62f",
   "metadata": {},
   "outputs": [],
   "source": [
    "# Load MR AcquisitionData\n",
    "mr_acq = mr.AcquisitionData('/home/jovyan/tmp/cine_64_32ph.h5')\n",
    "preprocessed_data = mr.preprocess_acquisition_data(mr_acq)"
   ]
  },
  {
   "cell_type": "code",
   "execution_count": null,
   "id": "fb6f4183",
   "metadata": {},
   "outputs": [],
   "source": [
    "# Calculate image\n",
    "recon = mr.FullySampledReconstructor()\n",
    "recon.set_input(preprocessed_data)\n",
    "recon.process()\n",
    "im_mr = recon.get_output()"
   ]
  },
  {
   "cell_type": "code",
   "execution_count": null,
   "id": "55729b96",
   "metadata": {},
   "outputs": [],
   "source": [
    "# Display it\n",
    "plot_2d_t_image(np.abs(im_mr.as_array()), 'Original image', cmap=\"Greys_r\")\n"
   ]
  },
  {
   "cell_type": "markdown",
   "id": "14ea559f",
   "metadata": {},
   "source": [
    "## (B) Create undersampling mask"
   ]
  },
  {
   "cell_type": "markdown",
   "id": "d7cbe868",
   "metadata": {},
   "source": [
    "The acquisitions for all cardiac phases are stored as one big vector, so we get the phase encoding index $ky$ and cardiac phase index $cph$ for all acquisitions. "
   ]
  },
  {
   "cell_type": "code",
   "execution_count": null,
   "id": "66ecb338",
   "metadata": {},
   "outputs": [],
   "source": [
    "ky_index = preprocessed_data.get_ISMRMRD_info('kspace_encode_step_1')\n",
    "cph_index = preprocessed_data.get_ISMRMRD_info('phase')"
   ]
  },
  {
   "cell_type": "markdown",
   "id": "dd9b3fc6",
   "metadata": {},
   "source": [
    "Calculate number of phase encoding steps and cardiac phases"
   ]
  },
  {
   "cell_type": "code",
   "execution_count": null,
   "id": "46b4c95e",
   "metadata": {},
   "outputs": [],
   "source": [
    "ky_num = int(np.max(ky_index)+1)\n",
    "cph_num = int(np.max(cph_index)+1)\n",
    "print(f'Nky {ky_num} - Ncph {cph_num}')"
   ]
  },
  {
   "cell_type": "markdown",
   "id": "326e7598",
   "metadata": {},
   "source": [
    "Create and visualise sampling mask for all phases with a total undersampling factor $R$ and a fully sampled centre of width $F$"
   ]
  },
  {
   "cell_type": "code",
   "execution_count": null,
   "id": "4c929f00",
   "metadata": {},
   "outputs": [],
   "source": [
    "R = 4\n",
    "F = int(ky_num/10)\n",
    "msk = cartesian_mask([cph_num, ky_num, 1], R, sample_n=F)\n",
    "\n",
    "fig, ax = plt.subplots(1,1)\n",
    "ax.imshow(msk[:,:,0])\n",
    "ax.set_xlabel('$k_y$')\n",
    "ax.set_ylabel('Cardiac phase');"
   ]
  },
  {
   "cell_type": "markdown",
   "id": "ffdc8041",
   "metadata": {},
   "source": [
    "## (C) Create undersampled data"
   ]
  },
  {
   "cell_type": "markdown",
   "id": "c91e4550",
   "metadata": {},
   "source": [
    "Now we know which k-space points to select, we need to select them and create a new `AcquisitionData` object. We will go through all cardiac phases and select the corresponding $ky$ indices. If the heartrate changes, the RR-cycle varies in length and hence certain $ky$ indices cannot be acquired. This is usually compensated for by interpolation. Here we are simply ignoring these missing values."
   ]
  },
  {
   "cell_type": "code",
   "execution_count": null,
   "id": "62074fe0",
   "metadata": {},
   "outputs": [],
   "source": [
    "acq_us = preprocessed_data.new_acquisition_data(empty=True)\n",
    "\n",
    "# Create raw data\n",
    "for cnd in range(cph_num):\n",
    "    for ynd in range(ky_num):\n",
    "        if msk[cnd, ynd, 0] == 1:\n",
    "            cidx = np.where((ky_index == ynd) & (cph_index == cnd))[0]\n",
    "            if len(cidx) > 0:\n",
    "                cacq = preprocessed_data.acquisition(cidx)\n",
    "                acq_us.append_acquisition(cacq)\n",
    "            else:\n",
    "                print(f'ky {ynd} - cph {cnd} not found')\n",
    "\n",
    "acq_us.sort()     "
   ]
  },
  {
   "cell_type": "markdown",
   "id": "dd2f1b4b",
   "metadata": {},
   "source": [
    "## (D) Simple reconstruction of the undersampled phantom"
   ]
  },
  {
   "cell_type": "markdown",
   "id": "dadab562",
   "metadata": {},
   "source": [
    "Now we will do a simple reconstruction by defining and `AcquisitionModel` based on the `AcquisitionData` and then call `backward()` (i.e. Fourier transform)."
   ]
  },
  {
   "cell_type": "code",
   "execution_count": null,
   "id": "b80fdd47",
   "metadata": {},
   "outputs": [],
   "source": [
    "# Original data\n",
    "csm_orig = mr.CoilSensitivityData()\n",
    "csm_orig.smoothness = 200\n",
    "csm_orig.calculate(preprocessed_data)\n",
    "\n",
    "A_orig = mr.AcquisitionModel(preprocessed_data, im_mr)\n",
    "A_orig.set_coil_sensitivity_maps(csm_orig)\n",
    "\n",
    "im_orig = A_orig.backward(preprocessed_data)\n",
    "\n",
    "\n",
    "# Undersampled data\n",
    "csm_us = mr.CoilSensitivityData()\n",
    "csm_us.smoothness = 200\n",
    "csm_us.calculate(acq_us)\n",
    "\n",
    "A_us = mr.AcquisitionModel(acq_us, im_mr)\n",
    "A_us.set_coil_sensitivity_maps(csm_us)\n",
    "\n",
    "im_us = A_us.backward(acq_us)"
   ]
  },
  {
   "cell_type": "code",
   "execution_count": null,
   "id": "b0e63856",
   "metadata": {},
   "outputs": [],
   "source": [
    "# Display it\n",
    "plot_2d_t_image(np.abs(im_orig.as_array()), 'Original image', cmap=\"Greys_r\")\n",
    "plot_2d_t_image(np.abs(im_us.as_array()), 'Undersampled image', cmap=\"Greys_r\")"
   ]
  },
  {
   "cell_type": "markdown",
   "id": "eab06850",
   "metadata": {},
   "source": [
    "## (E) Simulate new data"
   ]
  },
  {
   "cell_type": "markdown",
   "id": "dbd091eb",
   "metadata": {},
   "source": [
    "Get image from scipy"
   ]
  },
  {
   "cell_type": "code",
   "execution_count": null,
   "id": "82d3ad70",
   "metadata": {},
   "outputs": [],
   "source": [
    "import scipy.misc\n",
    "face = scipy.misc.face()\n",
    "scale_fac = face.shape[0]//im_us.as_array().shape[1]\n",
    "face = face[::scale_fac,::scale_fac,:]\n",
    "face_grey = 0.2125*face[:,:,0] + 0.7154*face[:,:,1] + 0.0721*face[:,:,2]"
   ]
  },
  {
   "cell_type": "markdown",
   "id": "5ea553ca",
   "metadata": {},
   "source": [
    "Ensure it is the same size as the original image"
   ]
  },
  {
   "cell_type": "code",
   "execution_count": null,
   "id": "c0ca9475",
   "metadata": {},
   "outputs": [],
   "source": [
    "idim = im_us.shape\n",
    "face_grey = face_grey[:idim[1], :idim[2]]"
   ]
  },
  {
   "cell_type": "markdown",
   "id": "dfe8b26e",
   "metadata": {},
   "source": [
    "The image is only a single frame so we have to make copies for the differen cardiac phases"
   ]
  },
  {
   "cell_type": "code",
   "execution_count": null,
   "id": "a952c5b1",
   "metadata": {},
   "outputs": [],
   "source": [
    "face_grey = np.tile(face_grey[np.newaxis,:,:], [cph_num, 1, 1])"
   ]
  },
  {
   "cell_type": "markdown",
   "id": "7fb9005a",
   "metadata": {},
   "source": [
    "In order to be able to pass this image on to the `AcquisitionModel` we need an object of type `ImageData`. The easiest way to achieve this is to make a copy of an already exisiting `ImageData` object and fill it with the new content"
   ]
  },
  {
   "cell_type": "code",
   "execution_count": null,
   "id": "b68befb9",
   "metadata": {},
   "outputs": [],
   "source": [
    "im_new = im_us.copy()\n",
    "im_new.fill(face_grey)"
   ]
  },
  {
   "cell_type": "markdown",
   "id": "bd28746e",
   "metadata": {},
   "source": [
    "Now we can simulate a data acquisition and carry out simple reconstruction"
   ]
  },
  {
   "cell_type": "code",
   "execution_count": null,
   "id": "6bc00219",
   "metadata": {},
   "outputs": [],
   "source": [
    "# Create k-space data\n",
    "acq_us_new = A_us.forward(im_new)\n",
    "\n",
    "# Simple reconstruction\n",
    "im_us_new = A_us.backward(acq_us_new)\n",
    "\n",
    "# Display it\n",
    "plot_2d_t_image(np.abs(im_new.as_array()), 'New original image', cmap=\"Greys_r\")\n",
    "plot_2d_t_image(np.abs(im_us_new.as_array()), 'New undersampled image', cmap=\"Greys_r\")"
   ]
  },
  {
   "cell_type": "code",
   "execution_count": null,
   "id": "de91942b-3102-4748-b11d-3aedb4f2aebb",
   "metadata": {},
   "outputs": [],
   "source": []
  }
 ],
 "metadata": {
  "kernelspec": {
   "display_name": "Python 3 (ipykernel)",
   "language": "python",
   "name": "python3"
  },
  "language_info": {
   "codemirror_mode": {
    "name": "ipython",
    "version": 3
   },
   "file_extension": ".py",
   "mimetype": "text/x-python",
   "name": "python",
   "nbconvert_exporter": "python",
   "pygments_lexer": "ipython3",
   "version": "3.9.10"
  }
 },
 "nbformat": 4,
 "nbformat_minor": 5
}
